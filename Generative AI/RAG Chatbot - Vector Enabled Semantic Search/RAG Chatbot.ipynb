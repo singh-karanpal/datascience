{
 "cells": [
  {
   "cell_type": "markdown",
   "id": "a4cb7825-5de4-4ee2-bd92-9ed318a41c44",
   "metadata": {},
   "source": [
    "# RAG Chatbot\n",
    "**Vector Search Enabled PDF Query System**"
   ]
  },
  {
   "cell_type": "markdown",
   "id": "6d12c976-f561-4e07-9d70-b7b421b4b7cb",
   "metadata": {},
   "source": [
    "- Vector Search enhances machine learning models by allowing similarity comparison between embeddings\n",
    "- Embeddings are the representations of the high dimensional data\n",
    "- Because LLMs are stateless we need Vector-based DBs to store the state of the embeddings before we lose them.\n",
    "- Inspired from [LangChain GEN AI Tutorial](https://www.youtube.com/watch?v=x0AnCE9SE4A)\n",
    "- I'll be using [DataStax](https://www.datastax.com/?utm_medium=search_pd&utm_source=google&utm_campaign=ggl_s_nam_dev_brand&utm_content=) for Vector DB"
   ]
  },
  {
   "cell_type": "markdown",
   "id": "06dbffe5-702e-49d4-a5bd-db72fa551fad",
   "metadata": {},
   "source": [
    "**Dataset and Data Source**\n",
    "\n",
    "Data Source: [Ministry of Finance, Quebec](https://www.finances.gouv.qc.ca/Budget_and_update/budget/speech.asp)\n",
    "\n",
    "PDF Doc: [Budget Speech](https://www.finances.gouv.qc.ca/Budget_and_update/budget/documents/Budget2324_BudgetSpeech.pdf)"
   ]
  },
  {
   "cell_type": "markdown",
   "id": "e49138dd-eae2-417e-b7e6-a80cad6fa516",
   "metadata": {},
   "source": [
    "## 1. Loading Libraries"
   ]
  },
  {
   "cell_type": "code",
   "execution_count": 1,
   "id": "9a7f443d-89d5-4927-96e8-faa75e5ba3a1",
   "metadata": {},
   "outputs": [],
   "source": [
    "# langchain\n",
    "from langchain.vectorstores.cassandra import Cassandra\n",
    "from langchain.indexes.vectorstore import VectorStoreIndexWrapper\n",
    "from langchain.llms import OpenAI\n",
    "from langchain.embeddings import OpenAIEmbeddings\n",
    "from langchain.text_splitter import CharacterTextSplitter\n",
    "\n",
    "# datasets\n",
    "from datasets import load_dataset\n",
    "\n",
    "# db connections\n",
    "import cassio\n",
    "\n",
    "# pdf reader\n",
    "from PyPDF2 import PdfReader\n",
    "\n",
    "# generic\n",
    "from typing_extensions import Concatenate"
   ]
  },
  {
   "cell_type": "code",
   "execution_count": null,
   "id": "9aa43daa-cac7-4ecc-90ba-978b8c0ea425",
   "metadata": {},
   "outputs": [],
   "source": []
  },
  {
   "cell_type": "markdown",
   "id": "8e7942de-e9ba-4f6b-90e1-3048677aa2fb",
   "metadata": {},
   "source": [
    "## 2. Setting up credentials"
   ]
  },
  {
   "cell_type": "code",
   "execution_count": 2,
   "id": "ba82c292-32b5-44f1-b695-3407f1f54e10",
   "metadata": {},
   "outputs": [],
   "source": [
    "ASTRA_DB_APPLICATION_TOKEN = \"\"\n",
    "ASTRA_DB_ID = \"\"\n",
    "\n",
    "OPENAI_API_KEY = \"\""
   ]
  },
  {
   "cell_type": "code",
   "execution_count": null,
   "id": "598ba11b-c39c-4dc7-814c-e98ae6e6e982",
   "metadata": {},
   "outputs": [],
   "source": []
  },
  {
   "cell_type": "code",
   "execution_count": null,
   "id": "88c7b911-0d6e-4ef4-a8b0-8262dfc216ce",
   "metadata": {},
   "outputs": [],
   "source": []
  },
  {
   "cell_type": "markdown",
   "id": "781e1f93-ab20-4136-b0bb-808a8b576bd0",
   "metadata": {},
   "source": [
    "## 3. Reading PDF File (Quebec Budget)"
   ]
  },
  {
   "cell_type": "code",
   "execution_count": 3,
   "id": "e6a361a7-038c-4041-b58c-fff3a0f19447",
   "metadata": {},
   "outputs": [],
   "source": [
    "pdf_reader = PdfReader('Budget2324_BudgetSpeech.pdf')"
   ]
  },
  {
   "cell_type": "code",
   "execution_count": 4,
   "id": "0f774a2b-46c0-4b97-bdbb-c3ef9850e6e5",
   "metadata": {},
   "outputs": [],
   "source": [
    "raw_text = ''\n",
    "\n",
    "for i, page in enumerate(pdf_reader.pages):\n",
    "    content = page.extract_text()#\n",
    "    if content:\n",
    "        raw_text += content"
   ]
  },
  {
   "cell_type": "code",
   "execution_count": 5,
   "id": "6820b318-774c-4172-ad2d-5ad198805aaa",
   "metadata": {
    "scrolled": true
   },
   "outputs": [
    {
     "data": {
      "text/plain": [
       "'BUDGET 2023-2024 \\nA COMMITTED \\nQUÉBEC \\nBUDGET SPEECH \\nMarch 2023 BUDGET 2023-2024 \\nA COMMITTED \\nQUÉBEC \\nBUDGET SPEECH \\nMarch 2023 \\nDelivered before the National Assembly by Eric Girard, Minister of Finance and \\nResponsible for Relations with English-Speaking Quebecers, on March 21, 2023.  Budget 2023-2024 \\nBudget Speech \\nLegal deposit – March 21, 2023 \\nBibliothèque et Archives nationales du Québec ISBN 978-2-550-94113-2 (Print) ISBN 978-2-550-94114-9 (PDF) \\n© Gouvernement du Québec, 2023  \\n     '"
      ]
     },
     "execution_count": 5,
     "metadata": {},
     "output_type": "execute_result"
    }
   ],
   "source": [
    "raw_text[:500]"
   ]
  },
  {
   "cell_type": "code",
   "execution_count": null,
   "id": "68088479-f00e-4e8a-b82e-a10cecf8754a",
   "metadata": {},
   "outputs": [],
   "source": []
  },
  {
   "cell_type": "code",
   "execution_count": null,
   "id": "4c4b067c-b633-452a-ac51-5d6eee84d175",
   "metadata": {},
   "outputs": [],
   "source": []
  },
  {
   "cell_type": "markdown",
   "id": "9e1f304b-77c7-45a8-980b-9af677ff2a7f",
   "metadata": {},
   "source": [
    "## 4. Initializing Connections"
   ]
  },
  {
   "cell_type": "code",
   "execution_count": 6,
   "id": "f1ba5236-43e3-460f-949c-6b89282906e5",
   "metadata": {},
   "outputs": [],
   "source": [
    "cassio.init(token=ASTRA_DB_APPLICATION_TOKEN, database_id=ASTRA_DB_ID)"
   ]
  },
  {
   "cell_type": "code",
   "execution_count": null,
   "id": "c6bf4f9d-8cf5-4c6c-a5a6-7c3fe0b4d058",
   "metadata": {},
   "outputs": [],
   "source": []
  },
  {
   "cell_type": "code",
   "execution_count": null,
   "id": "c1819f30-1869-4af1-b8b0-d1c66012b791",
   "metadata": {},
   "outputs": [],
   "source": []
  },
  {
   "cell_type": "markdown",
   "id": "ae1f4d55-d0d9-4cb7-8687-be9c7678d1cc",
   "metadata": {},
   "source": [
    "## 5. LLM & Embeddings"
   ]
  },
  {
   "cell_type": "code",
   "execution_count": 7,
   "id": "fead538c-a1e3-47b3-8bc7-03bc9e66a1c2",
   "metadata": {},
   "outputs": [
    {
     "name": "stderr",
     "output_type": "stream",
     "text": [
      "/Users/karanpalsingh/miniforge3/lib/python3.9/site-packages/langchain_core/_api/deprecation.py:117: LangChainDeprecationWarning: The class `langchain_community.llms.openai.OpenAI` was deprecated in langchain-community 0.0.10 and will be removed in 0.2.0. An updated version of the class exists in the langchain-openai package and should be used instead. To use it run `pip install -U langchain-openai` and import as `from langchain_openai import OpenAI`.\n",
      "  warn_deprecated(\n",
      "/Users/karanpalsingh/miniforge3/lib/python3.9/site-packages/langchain_core/_api/deprecation.py:117: LangChainDeprecationWarning: The class `langchain_community.embeddings.openai.OpenAIEmbeddings` was deprecated in langchain-community 0.1.0 and will be removed in 0.2.0. An updated version of the class exists in the langchain-openai package and should be used instead. To use it run `pip install -U langchain-openai` and import as `from langchain_openai import OpenAIEmbeddings`.\n",
      "  warn_deprecated(\n"
     ]
    }
   ],
   "source": [
    "llm = OpenAI(openai_api_key=OPENAI_API_KEY)\n",
    "embeddings = OpenAIEmbeddings(openai_api_key=OPENAI_API_KEY)"
   ]
  },
  {
   "cell_type": "code",
   "execution_count": null,
   "id": "b2be7437-c4e7-44c4-a419-8e521190d768",
   "metadata": {},
   "outputs": [],
   "source": []
  },
  {
   "cell_type": "code",
   "execution_count": null,
   "id": "b73ff8df-3736-4de1-93a3-2a23f685ab43",
   "metadata": {},
   "outputs": [],
   "source": []
  },
  {
   "cell_type": "markdown",
   "id": "05f4f027-9ce3-40e6-96e7-1f40edd9182c",
   "metadata": {},
   "source": [
    "## 6. Vector Store"
   ]
  },
  {
   "cell_type": "code",
   "execution_count": 8,
   "id": "24f67964-26ec-4782-b93f-e62cadc48048",
   "metadata": {},
   "outputs": [],
   "source": [
    "vector_store = Cassandra(embedding=embeddings, table_name='budget_speech_quebec_2023_2024', session=None, keyspace=None)"
   ]
  },
  {
   "cell_type": "code",
   "execution_count": 9,
   "id": "d03e05b8-746d-47f3-9420-48afce06da95",
   "metadata": {},
   "outputs": [],
   "source": [
    "text_splitter = CharacterTextSplitter(separator='\\n', chunk_size=800, chunk_overlap=200, length_function=len)\n",
    "texts = text_splitter.split_text(raw_text)"
   ]
  },
  {
   "cell_type": "code",
   "execution_count": 10,
   "id": "59232e00-4cbb-4d69-9f59-af08a51de295",
   "metadata": {},
   "outputs": [
    {
     "data": {
      "text/plain": [
       "['BUDGET 2023-2024 \\nA COMMITTED \\nQUÉBEC \\nBUDGET SPEECH \\nMarch 2023 BUDGET 2023-2024 \\nA COMMITTED \\nQUÉBEC \\nBUDGET SPEECH \\nMarch 2023 \\nDelivered before the National Assembly by Eric Girard, Minister of Finance and \\nResponsible for Relations with English-Speaking Quebecers, on March 21, 2023.  Budget 2023-2024 \\nBudget Speech \\nLegal deposit – March 21, 2023 \\nBibliothèque et Archives nationales du Québec ISBN 978-2-550-94113-2 (Print) ISBN 978-2-550-94114-9 (PDF) \\n© Gouvernement du Québec, 2023  \\n     \\n   \\n    \\n   \\n  \\n   \\n   \\n \\n    \\n    \\n   \\n   \\n   \\n  \\n   \\n  \\n   \\n   \\n    \\n    \\n   \\n   \\n   \\n  \\n   \\n   \\n     \\n   \\n A COMMITTED QUÉBEC \\nIntroduction .............................................................................................. 3',\n",
       " 'A COMMITTED QUÉBEC \\nIntroduction .............................................................................................. 3 \\n1. Growing Québec’s wealth ................................................................ 9 \\nLowering taxes .................................................................................... 9 \\nIncreasing the productivity of Québec’s economy .............................. 10 \\nContributing to prosperity in the regions ............................................ 11 \\nAddressing the labour shortage ......................................................... 12 \\nAdapting the Québec Pension Plan to the new realities',\n",
       " 'Addressing the labour shortage ......................................................... 12 \\nAdapting the Québec Pension Plan to the new realities \\nof Quebecers .................................................................................... 13 \\n2. Developing the potential of youth .................................................. 15 \\nHelping youth succeed ...................................................................... 15 \\nGetting Quebecers moving ................................................................ 17 \\nIncreasing higher education graduation rates .................................... 18 \\n3. Making the health care system more humane \\nand effective .................................................................................... 21']"
      ]
     },
     "execution_count": 10,
     "metadata": {},
     "output_type": "execute_result"
    }
   ],
   "source": [
    "texts[:3]"
   ]
  },
  {
   "cell_type": "code",
   "execution_count": null,
   "id": "00b98789-b010-4649-a41e-50d99cce4ba7",
   "metadata": {},
   "outputs": [],
   "source": []
  },
  {
   "cell_type": "code",
   "execution_count": 11,
   "id": "ab4a0a5a-47a7-4e5c-a7db-654a16663eba",
   "metadata": {},
   "outputs": [
    {
     "name": "stdout",
     "output_type": "stream",
     "text": [
      "Added 87 documents to the vector database\n"
     ]
    }
   ],
   "source": [
    "# loading data into Vector DB\n",
    "\n",
    "vector_store.add_texts(texts)\n",
    "print(f'Added {len(texts)} documents to the vector database')"
   ]
  },
  {
   "cell_type": "code",
   "execution_count": 12,
   "id": "d7925796-3786-487c-ab4e-5b86ea402815",
   "metadata": {},
   "outputs": [],
   "source": [
    "vector_index = VectorStoreIndexWrapper(vectorstore=vector_store)"
   ]
  },
  {
   "cell_type": "code",
   "execution_count": null,
   "id": "b90ee224-0169-4271-8a73-db9777c122f5",
   "metadata": {},
   "outputs": [],
   "source": []
  },
  {
   "cell_type": "code",
   "execution_count": null,
   "id": "ec2ed88e-1bef-48a1-a1d1-dc12fbf13894",
   "metadata": {},
   "outputs": [],
   "source": []
  },
  {
   "cell_type": "markdown",
   "id": "03f1e4e6-872c-40b8-a836-d8d91f3d326b",
   "metadata": {},
   "source": [
    "## 7. Question Answer on PDF"
   ]
  },
  {
   "cell_type": "markdown",
   "id": "cdf7da0d-8603-4ec9-a03b-29b6027f7330",
   "metadata": {},
   "source": [
    "**From Budget Speech**\n",
    "- what is the role of higher education?\n",
    "- can you highlight budget benefits for the seniors?\n",
    "- are there any implications on immigration policy?\n",
    "- what have been discussed for the French language?\n",
    "\n",
    "**From Math's Book**\n",
    "- what are mortgages?\n",
    "- What is the strategy for seniors?"
   ]
  },
  {
   "cell_type": "code",
   "execution_count": 13,
   "id": "f673803a-b639-45d9-bd5e-6e21a395fab9",
   "metadata": {},
   "outputs": [
    {
     "name": "stdin",
     "output_type": "stream",
     "text": [
      "Ask Question:  what have been discussed for the French language?\n"
     ]
    },
    {
     "name": "stdout",
     "output_type": "stream",
     "text": [
      "\n",
      "Question : what have been discussed for the French language?\n",
      "Response : The government's actions to support the French language in Quebec have been discussed.\n",
      "\n",
      "\n",
      "Other Relevant Responses:\n",
      "\n",
      "90.0% - the government. In May 2022, we adopted the Act respecting French, the official and \n",
      "common language of Québec . \n",
      "Today, the government continues to take action. The budget provides $88 million to \n",
      "ensure the implementation of the legislative changes related to this Act by supporting the Ministère d\n",
      "\n"
     ]
    },
    {
     "name": "stdin",
     "output_type": "stream",
     "text": [
      "Ask next Question:  exit\n"
     ]
    }
   ],
   "source": [
    "input_question = True\n",
    "\n",
    "while True:\n",
    "    if input_question:\n",
    "        query = input('Ask Question: ').strip()\n",
    "    else:\n",
    "        query = input('Ask next Question: ').strip()\n",
    "\n",
    "    if query.lower() == 'exit':\n",
    "        break\n",
    "\n",
    "    if query.lower() == '':\n",
    "        continue\n",
    "\n",
    "    input_question = False\n",
    "\n",
    "    print(f'\\nQuestion : {query}')\n",
    "    response = vector_index.query(query, llm=llm).strip()\n",
    "    print(f'Response : {response.strip()}')\n",
    "\n",
    "\n",
    "    print(f'\\n\\nOther Relevant Responses:\\n')\n",
    "    for doc, score in vector_store.similarity_search_with_score(query, k=1):\n",
    "        print(f'{round(score,2)*100}% - {(doc.page_content[:300]).strip()}\\n')"
   ]
  },
  {
   "cell_type": "code",
   "execution_count": null,
   "id": "5ccbedd0-3160-4f5b-b5b6-0ba192ae8a50",
   "metadata": {},
   "outputs": [],
   "source": []
  }
 ],
 "metadata": {
  "kernelspec": {
   "display_name": "Python 3 (ipykernel)",
   "language": "python",
   "name": "python3"
  },
  "language_info": {
   "codemirror_mode": {
    "name": "ipython",
    "version": 3
   },
   "file_extension": ".py",
   "mimetype": "text/x-python",
   "name": "python",
   "nbconvert_exporter": "python",
   "pygments_lexer": "ipython3",
   "version": "3.9.16"
  }
 },
 "nbformat": 4,
 "nbformat_minor": 5
}
