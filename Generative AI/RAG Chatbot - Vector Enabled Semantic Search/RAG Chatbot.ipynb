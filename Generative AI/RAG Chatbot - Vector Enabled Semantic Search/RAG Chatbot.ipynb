{
 "cells": [
  {
   "cell_type": "markdown",
   "id": "a4cb7825-5de4-4ee2-bd92-9ed318a41c44",
   "metadata": {},
   "source": [
    "# RAG Chatbot\n",
    "**Vector Search Enabled PDF Query System**"
   ]
  },
  {
   "cell_type": "markdown",
   "id": "6d12c976-f561-4e07-9d70-b7b421b4b7cb",
   "metadata": {},
   "source": [
    "- Vector Search enhances machine learning models by allowing similarity comparison between embeddings\n",
    "- Embeddings are the representations of the high dimensional data\n",
    "- Because LLMs are stateless we need Vector-based DBs to store the state of the embeddings before we lose them.\n",
    "- Inspired from [LangChain GEN AI Tutorial](https://www.youtube.com/watch?v=x0AnCE9SE4A)\n",
    "- I'll be using [DataStax](https://www.datastax.com/?utm_medium=search_pd&utm_source=google&utm_campaign=ggl_s_nam_dev_brand&utm_content=) for Vector DB"
   ]
  },
  {
   "cell_type": "markdown",
   "id": "06dbffe5-702e-49d4-a5bd-db72fa551fad",
   "metadata": {},
   "source": [
    "**Dataset and Data Source**\n",
    "\n",
    "Data Source: [Ministry of Finance, Quebec](https://www.finances.gouv.qc.ca/Budget_and_update/budget/speech.asp)\n",
    "\n",
    "PDF Doc: [Budget Speech](https://www.finances.gouv.qc.ca/Budget_and_update/budget/documents/Budget2324_BudgetSpeech.pdf)"
   ]
  },
  {
   "cell_type": "markdown",
   "id": "e49138dd-eae2-417e-b7e6-a80cad6fa516",
   "metadata": {},
   "source": [
    "## 1. Loading Libraries"
   ]
  },
  {
   "cell_type": "code",
   "execution_count": 1,
   "id": "9a7f443d-89d5-4927-96e8-faa75e5ba3a1",
   "metadata": {},
   "outputs": [],
   "source": [
    "# langchain\n",
    "from langchain.vectorstores.cassandra import Cassandra\n",
    "from langchain.indexes.vectorstore import VectorStoreIndexWrapper\n",
    "from langchain.llms import OpenAI\n",
    "from langchain.embeddings import OpenAIEmbeddings\n",
    "from langchain.text_splitter import CharacterTextSplitter\n",
    "\n",
    "# datasets\n",
    "from datasets import load_dataset\n",
    "\n",
    "# db connections\n",
    "import cassio\n",
    "\n",
    "# pdf reader\n",
    "from PyPDF2 import PdfReader\n",
    "\n",
    "# generic\n",
    "from typing_extensions import Concatenate"
   ]
  },
  {
   "cell_type": "code",
   "execution_count": null,
   "id": "9aa43daa-cac7-4ecc-90ba-978b8c0ea425",
   "metadata": {},
   "outputs": [],
   "source": []
  },
  {
   "cell_type": "markdown",
   "id": "8e7942de-e9ba-4f6b-90e1-3048677aa2fb",
   "metadata": {},
   "source": [
    "## 2. Setting up credentials"
   ]
  },
  {
   "cell_type": "code",
   "execution_count": 2,
   "id": "ba82c292-32b5-44f1-b695-3407f1f54e10",
   "metadata": {},
   "outputs": [],
   "source": [
    "ASTRA_DB_APPLICATION_TOKEN = \"\"\n",
    "ASTRA_DB_ID = \"\"\n",
    "\n",
    "OPENAI_API_KEY = \"\""
   ]
  },
  {
   "cell_type": "code",
   "execution_count": null,
   "id": "598ba11b-c39c-4dc7-814c-e98ae6e6e982",
   "metadata": {},
   "outputs": [],
   "source": []
  },
  {
   "cell_type": "code",
   "execution_count": null,
   "id": "88c7b911-0d6e-4ef4-a8b0-8262dfc216ce",
   "metadata": {},
   "outputs": [],
   "source": []
  },
  {
   "cell_type": "markdown",
   "id": "781e1f93-ab20-4136-b0bb-808a8b576bd0",
   "metadata": {},
   "source": [
    "## 3. Reading PDF File (Quebec Budget)"
   ]
  },
  {
   "cell_type": "code",
   "execution_count": 3,
   "id": "e6a361a7-038c-4041-b58c-fff3a0f19447",
   "metadata": {},
   "outputs": [],
   "source": [
    "pdf_reader = PdfReader('Budget2324_BudgetSpeech.pdf')"
   ]
  },
  {
   "cell_type": "code",
   "execution_count": 5,
   "id": "0f774a2b-46c0-4b97-bdbb-c3ef9850e6e5",
   "metadata": {},
   "outputs": [],
   "source": [
    "raw_text = ''\n",
    "\n",
    "for i, page in enumerate(pdf_reader.pages):\n",
    "    content = page.extract_text()#\n",
    "    if content:\n",
    "        raw_text += content"
   ]
  },
  {
   "cell_type": "code",
   "execution_count": 6,
   "id": "6820b318-774c-4172-ad2d-5ad198805aaa",
   "metadata": {
    "scrolled": true
   },
   "outputs": [
    {
     "data": {
      "text/plain": [
       "'BUDGET 2023-2024 \\nA COMMITTED \\nQUÉBEC \\nBUDGET SPEECH \\nMarch 2023 BUDGET 2023-2024 \\nA COMMITTED \\nQUÉBEC \\nBUDGET SPEECH \\nMarch 2023 \\nDelivered before the National Assembly by Eric Girard, Minister of Finance and \\nResponsible for Relations with English-Speaking Quebecers, on March 21, 2023.  Budget 2023-2024 \\nBudget Speech \\nLegal deposit – March 21, 2023 \\nBibliothèque et Archives nationales du Québec ISBN 978-2-550-94113-2 (Print) ISBN 978-2-550-94114-9 (PDF) \\n© Gouvernement du Québec, 2023  \\n     \\n   \\n    \\n   \\n  \\n   \\n   \\n \\n    \\n    \\n   \\n   \\n   \\n  \\n   \\n  \\n   \\n   \\n    \\n    \\n   \\n   \\n   \\n  \\n   \\n   \\n     \\n   \\n A COMMITTED QUÉBEC \\nIntroduction .............................................................................................. 3 \\n1. Growing Québec’s wealth ................................................................ 9 \\nLowering taxes .................................................................................... 9 \\nIncreasing the productivity of Québec’s economy .............................. 10 \\nContributing to prosperity in the regions ............................................ 11 \\nAddressing the labour shortage ......................................................... 12 \\nAdapting the Québec Pension Plan to the new realities \\nof Quebecers .................................................................................... 13 \\n2. Developing the potential of youth .................................................. 15 \\nHelping youth succeed ...................................................................... 15 \\nGetting Quebecers moving ................................................................ 17 \\nIncreasing higher education graduation rates .................................... 18 \\n3. Making the health care system more humane \\nand effective .................................................................................... 21 \\nMaking the health care system more efficient \\nand flexible for the public ................................................................... 21 \\nCaring for seniors and informal and family caregivers ....................... 23 \\nSupporting the most vulnerable ......................................................... 25 \\n4. Supporting Quebecers .................................................................... 27 \\nPromoting culture and the French language ...................................... 27 \\nFacilitating access to affordable housing ........................................... 28 \\nSupporting families ............................................................................ 29 \\nStrengthening the accessibility and efficiency \\nof transportation networks ................................................................. 30 \\nSupporting Quebecers’ quality of life ................................................. 31 \\n5. Diversifying and consoli dating environmental measures ............ 33 \\nConclusion ............................................................................................. 35 \\n1  \\n \\n   \\n  \\n \\n  \\n  \\n   \\n         \\n \\n        \\n \\n        \\n      \\n    \\n  \\n       \\n          \\n   \\n   \\n        \\n   \\n    \\n  \\n    \\n  \\n      \\n  \\n   \\n  \\n       \\n  \\n  \\n   \\n \\n INTRODUCTION \\nMadam President, \\nIt is my honour to table Québec’s 2023- 2024 budget —the first of this new term and \\nthe fifth of our government. \\n\\uf071Renewed trust \\nDuring the last election campaign, we presented our priorities for the coming years \\nto Quebecers. We promised to lower their taxes, step up our efforts to protect the \\nFrench language, improve education and health services and protect our environment. Que becers then placed their trust in us a second time. We are now \\ncommitted to getting the work done for them. \\nThe government is continuing the efforts of the past four years. Budget 2023- 2024 \\nprioritizes the economy, education, health and the environment, while maintaining \\na prudent and responsible financial framework. \\nToday, I am proud to announce one of the largest tax cuts in the history of Québec. \\nThe two bottom tax rates will be reduced by 1 percentage point starting this year. This tax cut will total $9.2 billion by 2027- 2028 and will \\nbenefit 4.6 million Quebecers. \\n\\uf071The year 2023, a period of transition \\nWe ended our last term with a promise to Quebecers: we promised to help them cope with the rising cost of living. And that’s what we did. Using the Anti -Inflation \\nShield, we have helped all Quebecers affected by the rising cost of living. \\nMadam President, of all the governments in Canada, ours has done the most \\nto protect its people from inflation. \\nThe year 2023 will be a period of transition for the global economy, marking a shift from a period of turbulence to a more stable economic context. \\n\\uf8e7 In early 2020, the COVID -19 pandemic caused a shock of unprecedented \\nmagnitude,  sending the economy into a short but deep recession. \\n\\uf8e7 The economic recovery and Russia’s invasion of Ukraine then created an \\nenvironment that is conducive to accelerating inflationary pressures. \\n\\uf8e7 The rising cost of living and deteriorating credit conditions will weigh on global \\neconomic expansion in the coming quarters. Most regions will experience a \\nsignificant slowdown in economic activity in 2023. \\nA Committed \\nQuébec 3  \\n    \\n  \\n  \\n   \\n          \\n    \\n   \\n   \\n \\n \\n     \\n         \\n         \\n     \\n \\n  \\n            \\n  \\n   \\n     \\n \\n   \\n   \\n  \\n   \\n  \\n     \\n   \\n  \\n  \\n \\n     \\n    \\n    \\n   \\n \\n \\n \\n Controlling inflation should help restore an environment that is conducive to \\nsustainable growth as of 2 024. \\nThis budget has been prepared with all these things in mind. \\nMadam President, it is undeniable that Québec will see an economic slowdown \\nin 2023. The risks of a recession are still present, but Québec’s resilience means \\nthat we can be optimistic about our chances of escaping one. \\nThe economy is projected to grow by 0.6% in 2023 and 1.4% in 2024. \\nIt is also important to remember that employment growth in Québec was strong, \\nexceeding expectations. \\nIn addition, we have continued to make progress toward closing the wealth gap with \\nOntario. Although growth in living standards was similar in Québec and Ontario in \\nthe years before our government came to power, we have managed to reduce the \\nwealth gap by nearly 3 percentage points since we took office. Our government is maintaining its goal of reducing this gap to less than 10% by the end of 2026 and will intensify its efforts to achieve this. \\nOf course, improving the standard of living is important, but it is not an end in itself. \\nThe premier as often said so. The goal is to collectively give ourselves the means \\nto achieve our ambitions. \\n\\uf071Québec is committed to delivering services to the population \\nMadam President, this budget reflects the government’s determination to fulfil l its \\nmain commitments to the benefit of the entire population. To achieve this, we intend \\nto focus on: \\n\\uf8e7 increasing Québec’s economic potential; \\n\\uf8e7 developing the potential of youth to ensure the future of Québec society; \\n\\uf8e7 continuing to roll out the health plan; \\n\\uf8e7 diversifying and consolidating environmental measures; \\n\\uf8e7 maintaining sound public finances over time. \\nIn total, this budget provides for $24.5 billion in investments by 2027- 2028. \\nMajor steps have been taken since fall 2018 to improve business productivity, \\nsupport innovation and promote workers’ integration and job retention. \\nInitiatives of more than $12 billion by 2027- 2028 are planned to grow Québec’s \\nwealth. \\nMoreover,  investing in the future of Québec means investing in its young people. \\nEducation is our top priority. To make sure that young people enjoy school and \\nto foster student retention and graduation rates, we plan to invest $2.3 billion. \\nBudget Speech \\n2023- 2024 4  \\n \\n       \\n   \\n \\n      \\n  \\n    \\n           \\n \\n  \\n  \\n \\n  \\n  \\n \\n  \\n \\n  \\n      \\n       \\n \\n \\n  \\n \\n   \\n  When it comes to health care, everyone agrees that changes are needed. That’s \\nwhy we have invested so much in recent years. \\nIn keeping with the health plan, our government is continuing to transform the \\nnetwork. As a result, nearly $5.6 billion is being provided to make the health care system more humane and more effective. \\nThe government is investing nearly $3.6 billion to support Quebecers. This amount \\nmeans that they will be able to count on more affordable housing units and better \\naccess to childcare services and the justice system, for example. They will also benefit from safer and more inclusive living envir onments. \\nIn addition, the budget provides nearly $650 million to promote the French language and Québec’s culture. \\n\\uf071Diversifying and consolidating environmental measures \\nMadam President, our government is the one that has done the most for the environment in recent years. \\nAt the United Nations Conference on Biodiversity, COP15, our government made \\nstrong commitments concerning the implementation of the Plan nature 2030 and pledged to protect Québec’s water reserves. \\nAs a result, $1 billion is being provided to diversify and consolidate environmental \\nmeasures, including the creation of the Fonds bleu and the implementation of the Plan nature. \\nWe are also continuing with our 2030 Plan for a Green Economy. \\nToday, I am announcing a $1.4 billion enhancement to the new \\n2023- 2028 implementation plan. In total, this plan will receive an \\nenvelope of $9 billion. \\nA Committed \\nQuébec 5  \\n      \\n          \\n          \\n \\n \\n   \\n \\n   \\n \\n  \\n  \\n  \\n   \\n   \\n   \\n  \\n   \\n  \\n    \\n       \\n  \\n      \\n         \\n   \\n       \\n  \\n   \\n  \\n   \\n \\n \\uf071Ambitious targets for sound management of public finances \\nWe are committed, Madam President, to accomplishing all of this and much more. \\nMoreover, we must also manage Québec’s public finances in a prudent and \\nresponsible manner. That has been a priority for us since 2018, as we are the trustees of Québec’s public finances. \\nToday, I am announcing the lifting of the suspension and the modernization of t he Balanced Budget Act . \\nThe financial framework of Budget 2023- 2024 is prudent and provides for declining \\ndeficits that will enable us to return to a balanced budget by 2027- 2028 while: \\n\\uf8e7 reducing personal income tax; \\n\\uf8e7 fostering economic growth; \\n\\uf8e7 adequately funding the government’s missions. \\nIt bears repeating, Madam President, that our financial framework includes \\nsignificant, stable and predictable funding for the government’s main missions. That \\nhas also been the case in each of our previous budgets. \\nSince we took office in 2018, annual growth in education spending has averaged 6%. \\nWe are maintaining that level this year . It is a priority for us. \\nSpending on higher education and health and social services will grow by 5% and 7.7% , respectively, this year. \\nQuébec’s public infrastructure needs are significant , and we are choosing to meet \\nthem, Madam President. \\nThat’s why I am announcing that the 2023- 2033 Québec Infrastructure \\nPlan, the QIP, has been increased to $150 billion. That is an increase \\nof $7.5 billion compared to the previous QIP. \\nThese record investments will significantly improve the quality of our infrastructure and will meet transportation, health and education needs throughout Québec. \\nQuébec has made remarkable progress in reducing its debt in recent decades, but \\nit remains one of the most indebted provinces. \\nBudget Speech \\n2023- 2024 6  \\n \\n    \\n         \\n  \\n  \\n  \\n \\n      \\n  \\n   \\n \\n    \\n   \\n \\n \\n \\n  \\n \\n  \\n  \\n  \\n   \\n  \\n \\n\\uf097\\uf096\\uf096To ensure that there is long -term funding for the government’s main missions and a \\nprosperous future for the next generations, we will continue to make reducing the \\ndebt burden one of our priorities. \\nToday, I am announcing a new objective: net debt will be reduced to 30% \\nof GDP by 2037- 2038. Québec’s net debt burden will therefore gradually \\nmove toward the current average of the provinces. \\nI am also announcing that deposits in the Generations Fund will reach \\n$2.4 billion in 2023- 2024 and will then continue to increase gradually. \\nMadam President, we are firmly committed to achieving our objectives for the benefit of all Quebecers. \\nI would now like to go into more detail about the various measures that our \\ngovernment will roll out using this budget. \\n* * * \\nI am therefore asking for the National Assembly’s consent to table the following documents: \\n\\uf8e7 the tables presenting the preliminary results of the consolidated budgetary \\ntransactions for 2022- 2023; \\n\\uf8e7 the forecasts for the 2023- 2024 financial framework. \\nI am also tabling the March 2023 Budget Plan and the companion documents, which \\nare an integral part of the budget. \\nA Committed \\nQuébec 7  \\n \\n      \\n \\n \\n    \\n     \\n \\n \\n      \\n  \\n \\n \\n  \\n     \\n \\n   \\n    \\n  \\n \\n    \\n \\n  \\n  \\n \\n   \\n \\n  1. GROWING QUÉBEC ’S WEALTH \\nMadam President, the government has set ambitious objectives for creating wealth \\nand increasing Québec’s economic potential. \\nTo achieve them, the government is planning more than $12 billion in initia tives \\nas part of this budget between now and 2027- 2028. \\n* * * \\nLOWERING TAXES \\nQuébec has the highest tax burden in Canada. The personal income tax to GDP \\nratio was 14. 7% in 2021. \\nBy reducing the amount taken from personal income, we are improving people’s ability to consume and save. \\nFurthermore, personal income tax has a negative impact on labour supply. We are using all the tools at our disposal to combat the labour shortage. \\nTo increase Quebecers’ disposable income, the government has committed \\nto reducing  their tax burden and we are following through on that commitment. \\nAs a result, 75% of the $9.2- billion tax cut will go to Quebecers who earn less \\nthan $10 0 000. \\nLet me be very clear, Madam President: the reduction in the tax burden of Quebecers \\nwill not occur at the expense of public services in Québec at any time or in any way. \\nWe are also not questioning the objective of reducing the debt burden or the \\nimportance of the Generations Fund. \\nThis tax cut will be funded by more moderate growth in deposit s in the Generations \\nFund. As a note, when the fund was established, it received deposits in the hundreds \\nof millions of dollars. We now expect to deposit $2.8 billion in the fund in 2027- 2028 \\nand nearly $5 billion in 2037- 2038. \\n* * * \\nA Committed \\nQuébec 9  \\n      \\n  \\n    \\n  \\n   \\n \\n   \\n  \\n  \\n  \\n \\n  \\n  \\n     \\n  \\n    \\n  \\n \\n     \\n    \\n    \\n  \\n  \\n      \\n     \\n \\n    \\n \\n   \\n   \\n   \\n \\n   \\n \\n \\n \\n INCREASING THE PROD UCTIVITY OF QUÉBEC ’S ECONOMY \\nIn addition to these efforts to increase Quebecers’ disposable income, we will make \\nsure to increase the productivity of Québec’s economy. Therefore, $888 million over five years has been provided for this purpose. \\nIn the context of the labour shortage, we must focus on productivity gains. Therefore, \\nwe intend to focus on: \\n\\uf8e7 stimulating private investment to accelerate economic growth; \\n\\uf8e7 stepping up efforts in innovation; \\n\\uf8e7 promoting business growth, digitization and exports. \\n\\uf071Implementing the new tax holiday for large investment projects \\nOne of the main tools Québec has to stimulate business growth is the tax holiday for \\nlarge investment projects, a measure that will expire on December 31, 2024. \\nTo stimulate productivity gains, I am announcing the introduction of a new tax holiday for large investment projects of over $100 million. \\nCompared to the current measure, the new tax holiday will: \\n\\uf8e7 reach a greater number of activity sectors; \\n\\uf8e7 provide an enhanced incentive that could now represent up to 25% of \\ninvestments, depending on the location of the project in Québec. \\nThe new tax holiday will provide $373 million in financial support to businesses over \\nthe next five years. It will support the implementation of nearly 100 new projects \\nin Québec by the end of 2029, ultimately generating investments totalling more \\nthan $24 billion. \\n\\uf071Continuing to develop innovation zones \\nInnovation zones are central to the economic vision of the premier and our government. They foster real collaboration between university researchers and large \\nbusinesses in the aim of promoting innovation marketing, export growth, investment \\nand business productivity. \\nIn February 2022, our government unveiled the first two innovation zones, in \\nSherbrooke and Bromont. \\nTo accelerate the creation of innovation zones, the government is providing \\n$100 million over five years. These investments will position Québec as an \\ninternational player in innovation and will facilitate talent attraction and retention. \\n* * * \\nBudget Speech \\n2023- 2024 10  \\n \\n     \\n \\n   \\n  \\n    \\n   \\n     \\n  \\n   \\n  \\n  \\n    \\n  \\n   \\n  \\n \\n   \\n    \\n  \\n   \\n \\n  \\n \\n  \\n \\n   \\n \\n \\n   \\n \\n \\n \\n  CONTRIBUTING TO THE PROSPERITY OF THE REGIONS \\nOur regions are crucial when it comes to increasing collective wealth in Québec. \\nOur government will support prosperity in the regions with investments totalling \\n$1.4 billion. We intend to focus on: \\n\\uf8e7 supporting the growth of the bio- food sector; \\n\\uf8e7 stimulating regional economic vitality; \\n\\uf8e7 ensuring the development and promotion of our tourist attractions; \\n\\uf8e7 fostering the development of the forestry sector ; \\n\\uf8e7 continuing the actions for better connectivity; \\n\\uf8e7 harnessing the value of Québec’s subsurface minerals. \\n\\uf071Increasing Québec’s food autonomy \\nThe goal of greater food autonomy requires, n otably , a greater capacity to offer \\nQuebecers fresh, healthy and diversified food. \\nTo increase Québec’s food autonomy, this budget provides $175 million to enhance \\nthe programs of the Ministère de l’Agriculture, des Pêcheries et de l’Alimentation. \\n\\uf071Supporting an innovative, evolving and sustainable tourism \\noffering \\nOur government is supporting tourism industry investment with an amount \\nof $75 million, including $45 million to extend the Program Supporting the \\nDevelopment of Tourist Attractions. \\n\\uf071Rolling out cellular technology initiatives \\nSince 2021, Operation High Speed has reached a very high number of Québec households, providing them with access to a reliable and secure high- speed Internet \\nconnection. \\nThe government is now setting new objectives to provide all regions of Québec with \\naccess to a fibre- optic network and to extend the 5G cellular network across all \\ninhabited areas of Québec. \\nAs a result, the government plans to invest $109 million to reach the next milestones \\nto better connectivity for Quebecers and businesses. \\n* * * \\nA Committed \\nQuébec 11  \\n    \\n     \\n  \\n     \\n  \\n   \\n  \\n        \\n   \\n  \\n   \\n  \\n  \\n       \\n \\n      \\n    \\n   \\n  \\n   \\n \\n  \\n \\n        \\n \\n \\n  ADDRESSING THE LABOUR SHORTAGE \\nMadam President, our government is particularly sensitive to the situation of the \\nQuébec workforce. It is the powerhouse of our economic vitality. We are aware that \\nthe current shortage combined with an aging population will present challenges for years to come. It is therefore our responsibility to better integrate immigrants into the labour market. \\nOpération main-d’œuvre was launched in fall 2021 in order to match workers’ skills \\nwith the needs of Québec employers. We are continuing our efforts to combat the \\nlabour shortage with additional initiatives totalling $615 million. \\n\\uf071Supporting the s ocioeconomic integration of immigrants \\nIntegrating immigrants into Québec society and the labour market helps mitigate the impact of the labour shortage and the effects of demographic changes in all \\nour regions. \\nProficiency in French greatly facilitates immigrants’ economic and cultural \\nintegration. \\nTo ease their socioeconomic integration and bolster economic vitality in Québec’s \\nregions, we are investing $510 million over five years, including $214 million \\nto increase support for learning French through the rollout of Francisation Québec. \\n\\uf071Supporting in-company training \\nThe short -term training program (COUD) offers internships prioritized by the \\nCommission des partenaires du marché du travail. As a result, businesses \\nexperiencing difficulties with recruitment can receive support through its work -study \\nformula. \\nAn amount of $100 million will be invested to renew the COUD’s component \\nconcerning requalification and skills upgrading. \\n* * * \\nBudget Speech \\n2023- 2024 12  \\n \\n     \\n  \\n  \\n  \\n  \\n   \\n  \\n      \\n   \\n   \\n \\n   \\n   \\n  \\n \\n \\n   \\n  \\n \\n\\uf097\\uf096\\uf096ADAPTING THE QUÉBEC PENSION PLAN TO THE NEW REALITIES \\nOF QUEBECERS \\nMadam President, our government also conducted a public consultation on the \\nQuébec Pension Plan. These discussions provided an opportunity to reflect in detail on ways to increase the financial security of Quebecers. \\nAt the end of these consultations, one finding emerged: we have a responsibility \\nto ensure that workers are better informed of their rights and opportunities in relation \\nto their benefits. \\nTo encourage job retention among workers aged 65 or over, I am \\nannouncing amendments to the Québec Pension Plan that will apply as of January 1, 2024, namely: \\n\\uf8e7 the option to discontinue contributions to the plan for people \\naged 65 or over who are receiving a retirement pension; \\n\\uf8e7 the introduction of pension protection for people aged 65 or over who work part-time. \\nMadam President, Québec is changing, the labour market is evolving, and we have \\na responsibility to adapt. \\nA Committed \\nQuébec 13  \\n \\n       \\n       \\n \\n  \\n        \\n \\n  \\n   \\n \\n  \\n   \\n \\n  \\n     \\n \\n \\n  \\n            \\n \\n  \\n   \\n   \\n  \\n   \\n \\n  \\n \\n 2. DEVELOPING THE POTENTIAL OF YOUTH \\nAs I mentioned earlier, Madam President , investing in Québec’s future also means \\ninvesting in its young people. \\nEducation and developing the potential of young people continue to be the \\ngovernment’s top priority. We wish to provide all young people in Québec with the \\ntools to achieve their ambitions and choose plans for their future that suit them. They \\nwill be better equipped to do so with training that reflects their aspirations. \\nTherefore, an amount of $2.3 billion is being invested in education and higher \\neducation. We intend to focus on: \\n\\uf8e7 helping youth suc ceed; \\n\\uf8e7 fostering student access, retention and graduation rates in higher education. \\n* * * \\nHELPING YOUTH SUCCEED \\nSince fall 2018, a number of initiatives, totalling nearly $7.2 billion, have been put in \\nplace to support student success and retention. \\nThe government is now aiming to achieve the highest international standards in \\neducation. We want at least 90% of students to earn a first diploma or qualification. \\nAs a result, we are planning additional initiatives totalling nearly $1.5 billion with a \\nview t o: \\n\\uf8e7 encouraging student retention and success; \\n\\uf8e7 improving the performance of the network; \\n\\uf8e7 making vocational training more attractive; \\n\\uf8e7 accelerating maintenance of the building inventory. \\nA Committed \\nQuébec 15  \\n     \\n \\n       \\n  \\n  \\n  \\n   \\n \\n  \\n  \\n  \\n  \\n  \\n    \\n  \\n  \\n    \\n   \\n    \\n \\n      \\n \\n     \\n    \\n   \\n  \\n \\n    \\n   \\n \\n \\n \\n \\n \\n \\uf071Improving student retention and success \\nStudents’ literacy and numeracy skills are fundamental. \\nThe government’s goal is to provide all students with the tools required to support \\ntheir learning, development and growth. \\nThe new investments planned to promote educational success and equal opportunity \\nwill make it possible t o implement all the means necessary to support students with \\nspecial needs or in vulnerable situations. \\nThey will also enable more youth to enroll in sports, arts and science programs \\nto strengthen their motivation and help them succeed in school. \\nI am announcing investments of $789 million for: \\n\\uf8e7 improving youth literacy and numeracy; \\n\\uf8e7 supporting students with special needs; \\n\\uf8e7 supporting student success and well- being; \\n\\uf8e7 fostering access to special educational projects and promoting \\nculture and citizenship in Québec . \\n\\uf0a1Promoting access to special educational projects \\nThe government wants all students who attend public secondary schools to have \\naccess to special educational projects. To achieve this, we are investing $168 million. \\n\\uf071Modernizing vocational training to make it more attractive and \\nencourage success \\nFor many young people, a vocational training diploma is what best matches their \\ninterests and aspirations. From now on: \\n\\uf8e7 vocational training centres will have access to modern technological equipment; \\n\\uf8e7 part-time vocational training will be expanded and free of charge; \\n\\uf8e7 accelerated training opportunities will be enhanced and bursaries will be offered \\nin the coveted programs. \\nWe want to overhaul vocational training to make it more attractive. An amount \\nof $200 million will be earmarked for this purpose. \\nBudget Speech \\n2023- 2024 16  \\n \\n      \\n  \\n   \\n  \\n   \\n  \\n \\n  \\n  \\n  \\n  \\n \\n         \\n     \\n  \\n    \\n \\n  \\uf071Enhancing the school building inventory \\nMany schools are aging. There is a need to increase the amount of money spent on \\nmaintaining the school building inventory by continuing the efforts in this regard. \\nThus, the government will provide additional financial support to school service \\ncentres to improve the overall condition of their buildings. \\nSchool maintenance will receive an additional amount of $208 million over and \\nabove the $22 billion allocated to the QIP. \\n* * * \\nGETTING QUEBECERS MOVING \\nWe also want to encourage Quebecers to play sports and engage in physical activity. \\nWe are investing $88 million to improve access to and increase participation in \\nrecreational, sports and physical activities in a safe and healthy environment for \\neveryone. \\nTo keep providing the public with infrastructure in good condition, the government \\nwishes to continue the development of attractive sports, recreational and outdoor infrastructure in all Québec regions. \\nTo this end, investments of $300 million are provided in the QIP. \\n* * * \\nA Committed \\nQuébec 17  \\n    \\n  \\n         \\n  \\n \\n   \\n       \\n \\n  \\n   \\n \\n \\n  \\n      \\n \\n \\n    \\n   \\n   \\n \\n     \\n \\n    \\n   \\n     \\n \\n  \\n  \\n   \\n \\n INCREASING HIGHER EDUCATION GRADUATION RATES \\nMadam President, let’s talk about higher education. \\nSince 2018, the government has made significant investments in higher education \\nto promote access and success. The acquisition of knowledge and skills by the population remains a top priority. We also believe that all young Quebecers who wish to do so should be able to fulfil l their potential by accessing higher education. \\nI am announcing additional investments of $717 million over five years \\nwith a view to: \\n\\uf8e7 financially supporting students; \\n\\uf8e7 improving higher education graduation rates; \\n\\uf8e7 enhancing the culture of innovation and supporting the adoption \\nof tec hnological advances. \\n\\uf071Financially supporting students \\nDue to the rising cost of living, particularly in relation to housing, the government is \\nmaking the increase in living expenses considered in the calculation of student loans and bursaries permanent. \\nThis renewal represents an additional $351 million in financial support for \\napproximately 80 000 students. \\nIn addition, the merit scholarships administered by the Fonds de recherche du \\nQuébec are a powerful tool for promoting research and attracting and retaining talent. The government is providing $50 million to enhance these scholarships for \\nthe scientific community. \\n\\uf071Welcoming more French -speaking international students \\nThe granting of additional tuition exemptions allows select international students to pay the same fees as Québec students. These exemptions are an excellent tool \\nfor higher education institutions and allow Québec to attract more French- speaking \\nstudents from international pools. \\nThis budget provides $70 million to attract more international students. \\nBudget Speech \\n2023- 2024 18  \\n \\n    \\n     \\n  \\n  \\n \\n  \\n  \\n   \\n \\n   \\n \\uf097\\uf096\\uf096\\uf071Improving training and services in the regions \\nThe regionalization of higher education promotes accessibility to studies and helps \\ncombat the labour shortage in areas far from major centres. \\nIt makes it possible to support new projects that rely on the mobilization of local and \\nregional players and to improve college and university educational services, particularly in the Côte- Nord region. \\nIn addition, the government is pursuing the development of higher education hubs. \\nAn investment of $20 million will make it possible to enhance higher education \\nservices in the regions. \\nA Committed \\nQuébec 19  \\n \\n        \\n  \\n  \\n    \\n  \\n \\n  \\n     \\n   \\n  \\n \\n   \\n \\n     \\n \\n      \\n \\n  \\n   \\n  \\n  \\n \\n     \\n  \\n   \\n   \\n \\n \\n   \\n \\n \\n \\n \\n 3. MAKING THE HEALTH CARE SYSTEM MORE EFFECTIVE \\nAND MORE HUMANE \\nMadam President, our health and social services system was put under great strain \\nduring the pandemic. The government learned from this experience and launched the plan to reform health care in March 2022. It thereby initiated a major shift in order to meet the many challenges still present in this sector. \\nIn this budget, we are investing nearly $5.6 billion in the aim of: \\n\\uf8e7 making the health care system more efficient and more flexible for the public; \\n\\uf8e7 caring for seniors and informal and family caregivers; \\n\\uf8e7 supporting the most vulnerable. \\n* * * \\nMAKING THE HEALTH CARE SYSTEM MORE EFFICIENT AND FLEXIBLE \\nFOR THE PUBLIC \\nWith its health care plan, the government has been reshaping the organization of \\nhealth care to improve network performance for close to a year now . \\nToday, the government is planning new initiatives totalling more than $3 billion in \\norder to make the health care system more efficient and flexible with a view to: \\n\\uf8e7 adapting the health sector to post -pandemic realities; \\n\\uf8e7 improving care and services through lasting structural changes; \\n\\uf8e7 supporting the creation of Santé Québec. \\n\\uf071Adapting the health sector to post -pandemic realities \\nThe pandemic required rapid adaptation of the health care system. Maintaining many \\nof the innovative solutions implemented during the emergency will have a positive and lasting impact on Quebecers’ health. We also know that one of the keys to improving access to health care lies in prevention. \\nIn addition, offloading caused by the various waves of the pandemic has resulted in longer wait times for surgeries and clinical activities. This is why the strategy put in place to increase surgical activity in 2021 will be maintained and extended. \\nA Committed \\nQuébec 21  \\n      \\n    \\n        \\n \\n  \\n \\n  \\n   \\n \\n  \\n   \\n \\n   \\n   \\n  \\n  \\n \\n     \\n      \\n    \\n     \\n \\n   \\n \\n     \\n \\n \\n \\n   \\n \\n   \\n \\n \\n \\n \\n \\n The government is providing more than $2.2 billion to adapt the health care system \\nto post -pandemic realities. This will make it possible to focus on: \\n\\uf8e7 sustaining the new approach developed for vaccination and testing, expanding \\nits reach to other front -line services; \\n\\uf8e7 updating the emergency preparedness plan and personal protective equipment \\nprocurement; \\n\\uf8e7 reducing the waiting list for surgeries. \\n\\uf071Improving health care and services through lasting structural \\nchanges \\nAn additional $710 million will make it possible to focus on: \\n\\uf8e7 opening new front -line-access clinics and add ing specialized nurse practitioners \\nand other front -line professionals; \\n\\uf8e7 developing the “Votre Santé” platform; \\n\\uf8e7 establishing a helicopter medical transportation service; \\n\\uf8e7 improving the management of patients suffering from rare or chronic diseases. \\n\\uf0a1Opening new front -line-access clinics and adding specialized \\nnurse practitioners and other front -line professionals \\nSince 2021, specialized nurse practitioners, or SNPs, have been given more \\nresponsibilities and greater autonomy. They can make more diagnoses, prescribe \\nexaminations, medication and treatment plans, and monitor pregnancies. \\nContinuing this initiative, we plan to invest $395 million to open 23 new SNP clinics \\nin Québec. \\n\\uf0a1Developing the “Votre Santé” platform to facilitate appointment \\nbooking \\nSince June 2022, the government has made it possible to roll out an \\nappointment -management platform. The “Votre Santé” platform will build on the \\nsuccess of the vaccination campaign with “Clic Santé” and will also facilitate the adoption of telemedicine. \\nAs a result, we are earmarking $146 million to develop this platform. \\n* * * \\nBudget Speech \\n2023- 2024 22  \\n \\n    \\n     \\n \\n   \\n   \\n        \\n \\n  \\n   \\n  \\n  \\n    \\n    \\n   \\n  \\n  \\n   \\n \\n          \\n \\n  \\n  \\n \\n  \\n   \\n  \\n  \\n      \\n  \\n   \\n \\n \\n CARING FOR SENIORS AND INFORMAL AND FAMILY CAREGIVERS \\nIn this budget, we have also committed to continuing efforts to take better care of \\nseniors and informal and family caregivers. \\nIn Québec, the proportion of people aged 65 and over is continually increasing. It will \\nincrease from 21% in 2022 to 26% in 2041. \\nTherefore, the government is earmarking nearly $2 billion for seniors and informal \\nand family caregivers. \\n\\uf071Increasing the supply of home-support services \\nMadam President, in our last term, we made a commitment to make it easier for seniors  to stay in their homes. We want to enable them to live and grow old in their \\nown homes for as long as they can. \\nI am announcing an investment of $964 million in the aim of: \\n\\uf8e7 providing services to an additional 34 000 people; \\n\\uf8e7 increasing the provision of home- support services by more than \\n13.5 million hours annually. \\nThis means that, since 2018- 2019, the additional amounts announced for home \\nsupport have totalled nearly $6.5 billion. \\n\\uf071Ensuring the sustainability of services in private seniors’ \\nresidences \\nPrivate seniors’ residences, or PSRs, are an essential partner of the public health \\ncare system when it comes to home- support services for seniors. \\nThe government has taken steps to ensure the sustainability of the services offered. \\nHowever, residences continue to close down because of significant increases in operational costs, such as those associated with labour, insurance and certification. \\nWe are continuing our efforts to ensure the sustainability of services in PSRs. In this \\nbudget, $405 million is being invested in the aim of: \\n\\uf8e7 maintaining services to seniors; \\n\\uf8e7 extending the financial assistance program for installing sprinklers. \\nIn addition, the program to reduce the impact of insurance premium increases on PSRs will be extended by one year. \\nA Committed \\nQuébec 23  \\n     \\n  \\n   \\n     \\n  \\n  \\n \\n   \\n \\n \\uf0a1Maintaini ng services offered in private seniors’ residences \\nTo ensure that seniors living in PSRs continue to obtain the services they need, \\n$316 million is being set aside in the aim of: \\n\\uf8e7 improving the direct allocation mechanism for clients with diminishing autono my; \\n\\uf8e7 updating the intervention framework for small residences; \\n\\uf8e7 expanding the salary transition program for caregiving staff. \\n* * * \\nBudget Speech \\n2023- 2024 24  \\n \\n   \\n \\n       \\n  \\n    \\n  \\n \\n   \\n   \\n  \\n \\n \\n   \\n \\n       \\n  \\n   \\n  \\n \\n \\n \\n\\uf097\\uf096\\uf096SUPPORTING THE MOST VULNERABLE \\nIn recent years, significant investments have been made to enhance mental health \\nand social services. The government is continuing its efforts to strengthen support for the most vulnerable Quebecers. \\nTo this end, $565 million is being provided for: \\n\\uf8e7 strengthening support to community organizations in the health and social \\nservices sector; \\n\\uf8e7 increasing mental health, homelessness and addiction services; \\n\\uf8e7 creating new places for respite care for parents of children with disabilities; \\n\\uf8e7 strengthening care and services for youth in difficulty, in line with the \\nrecommendations of the Special Commission on the Rights of the Child and \\nYouth Protection. \\nMadam President, when it comes to health and social services, we have a clear direction. The federal government obviously missed an opportunity to join forces with \\nQuébec to improve health care. \\nWe are fulfil ling our responsibilities and will continue to do so. Our government is \\ndelivering on its plan and we are committed to keeping the money flowing. \\nA Committed \\nQuébec 25  \\n \\n     \\n  \\n         \\n \\n  \\n \\n \\n \\n   \\n \\n   \\n \\n   \\n \\n  \\n \\n \\n    \\n  \\n   \\n  \\n  \\n  \\n  \\n  \\n    \\n  \\n   \\n  \\n  \\n \\n   \\n \\n \\n \\n 4. SUPPORTING QUEBECERS \\nMadam President, I would now like to talk about what we propose to support \\nQuebecers in their daily lives. I’m talking about their lives as families and in their \\ncommunities and environments. \\nIn this regard, the government is pursuing its commitments to support families, \\ncommunity organizations and people in vulnerable situations. In addition, significant \\ninvestments have been made to improve our living environments and enhance access to transportation. \\nWe will invest $3.6 billion to better meet the needs of Quebecers. \\nWe will promote access to affordable housing and support families, vulnerable \\nindividuals and First Nations and Inuit people. \\n* * * \\nPROMOTING CULTURE AND THE FRENCH LANGUAGE \\nCulture contributes to promoting and shaping Québec’s identity. In addition to representing a major sector of our economy, cultural industries promote Québec here and abroad. \\nIntimately linked to Québec culture, the French language is the cornerstone of \\nQuébec’s identity. It is alive and rich. The government is therefore committed \\nto protecting, preserving and advancing our common language in Québec. \\nAccordingly, I am announcing nearly $650 million to promote Québec culture and the French language. \\n\\uf071Promoting Québec culture \\nInitiatives totalling $561 million will be aimed at: \\n\\uf8e7 giving new impetus to cultural development; \\n\\uf8e7 deploying Québec’s creativity in the digital realm; \\n\\uf8e7 promoting Québec culture and increasing its dissemination and accessibility. \\nTo achieve these goals, I am announcing: \\n\\uf8e7 $300 million to continue the government culture action plan for \\nthe next five years; \\n\\uf8e7 $200 million to be made available to the Société de \\ndéveloppement des entreprises culturelles, SODEC, to increase \\nthe industry’s outreach. \\nA Committed \\nQuébec 27  \\n      \\n    \\n  \\n  \\n \\n \\n   \\n  \\n  \\n \\n \\n   \\n  \\n \\n \\n  \\n  \\n  \\n     \\n \\n \\n \\n    \\n  \\n \\n     \\n \\n \\n   \\n \\n \\uf0a1Reaffirming the role of Télé- Québec in youth programming \\nFor more than 50 years, Télé- Québec has been providing Quebecers with quality \\nFrench- language content. \\nThe government is providing $101 million for Télé -Québec to reaffirm its role in youth \\nprogramming and enhance its service offering on its different platforms. The channel \\nwill thus be able to propose an original and renewed service offering. \\n\\uf071Advancing the French language \\nThe defence, promotion and advancement of the French language are priorities for \\nthe government. In May 2022, we adopted the Act respecting French, the official and \\ncommon language of Québec . \\nToday, the government continues to take action. The budget provides $88 million to \\nensure the implementation of the legislative changes related to this Act by supporting the Ministère de la Langue française and the Office québécois de la langue française. \\n* * * \\nFACILITATING ACCESS TO AFFORDABLE HOUSING \\nThe Québec government recognizes how important it is for households to live in quality housing that suits their financial capacity. However, recent years have seen a sharp rise in rental costs, making it hard for certain households to meet this need. \\nTo facilita te access to affordable housing, I am announcing a $1- billion \\ninvestment with a view to: \\n\\uf8e7 increasing and maintaining the social and affordable housing \\nstock, in particular by allowing for the construction of more \\nthan 5 250 housing units; \\n\\uf8e7 enhancing the housing component of the refundable solidarity \\ntax credit; \\n\\uf8e7 allocating an additional 2 000 units under the Rent Supplement \\nProgram. \\n* * * \\nBudget Speech \\n2023- 2024 28  \\n \\n   \\n   \\n  \\n \\n  \\n   \\n     \\n    \\n \\n   \\n    \\n  \\n   \\n   \\n    \\n \\n  \\n  \\n   \\n \\n  SUPPORTING FAMILIES \\nThe government wishes to support Québec families in a practical way. For most, this \\nmeans quality educational childcare services. Services that will enhance \\nfamily -work -school balance and foster child development. \\nFurthermore, our government wishes to pay special attention to families in vulnerable \\nsituations and ensure that they receive the he lp they need. \\n\\uf071Converting 5 000 non-subsidized childcare spaces \\nWe are committed to gradually converting non- subsidized childcare spaces in the \\nnetwork into subsidized spaces. \\nTo ensure greater financial equity, I am announcing today the conversion of 5 000 childcare spaces in 2023- 2024. \\nThis measure will allow more families to benefit from the reduced contribution, which is currently $8.85 per day. \\n\\uf071Supporting vulnerable children \\nCertain children from vulnerable or disadvantaged environments need special \\nsupport in order to flourish and achieve their full potential. We are therefore providing \\n$64 million to support these children. \\nAs outreach organizations, community social pediatrics centres play a very important role in reaching families in vulnerable situations. \\n* * * \\nA Committed \\nQuébec 29  \\n     \\n \\n   \\n \\n  \\n \\n     \\n \\n   \\n   \\n   \\n \\n   \\n  \\n \\n \\n   \\n \\n \\n STRENGTHENING THE ACCESSIBILITY AND EFFICIENCY OF \\nTRANSPORTATION NETWORKS \\nMadam President, quality of life for our citizens means accessible and efficient \\ntransportation networks. \\nFurthermore, remote communities also depend on the availability of these services \\nfor their supplies of basic necessities, to ensure the mobility of essential workers and \\nto transport patients to health care facilities in major centres. \\nWe are therefore investing to ensure the maintenance of these services, some of \\nwhich have been hit hard by the pandemic. \\nIn this budget, I am announcing $722 million with a view to: \\n\\uf8e7 supporting the recovery of public transit; \\n\\uf8e7 diversifying the transportation offering for people with reduced \\nmobility; \\n\\uf8e7 maintaining essential regional air services; \\n\\uf8e7 investing in high- performance and safe land transportation \\ninfrastructure. \\n* * * \\nBudget Speech \\n2023- 2024 30  \\n \\n     \\n         \\n     \\n \\n       \\n \\n    \\n  \\n  \\n  \\n  \\n   \\n      \\n  \\n \\n         \\n \\n       \\n \\n    \\n \\n    \\n  \\n  \\n   \\n   \\n        \\n \\n  \\n  \\n  \\n   \\n \\n \\n \\n \\n \\n \\n \\n SUPPORTING QUEBECERS ’ QUALITY OF LIFE \\nOur government has made significant efforts in recent years to strengthen support \\nfor Quebecers, and these efforts have resulted in considerable investments in the \\ncommunity sector. \\nFurthermore, we want to ensure that everyone can enjoy a safe environment, free \\nfrom discrimination. \\nTo this end, $533 million is provided with a view to: \\n\\uf8e7 improving inclusion and equality; \\n\\uf8e7 supporting the vitality of English- speaking communities; \\n\\uf8e7 ensuring public safety; \\n\\uf8e7 facilitating access to justice. \\n\\uf071Strengthening assistance in the communities \\nOur government will continue to help Quebecers whose socioeconomic conditions \\nare more precarious. Actions will therefore be taken to increase the resources provided to assist them. \\nTo strengthen assistance in communities, this budget provides $125 million with a \\nview to: \\n\\uf8e7 continuing to support community organizations, particularly the Food Banks of \\nQuébec network; \\n\\uf8e7 strengthening the socioeconomic security of the most vulnerable people. \\nTaking into account prior investments and those in this budget, the government’s \\nsupport f or the community sector will exceed $2 billion this year, an increase of 58.6% \\ncompared with four years ago. \\n\\uf071Improving inclusion and equality \\nIt is essential that our government continue to take action to reduce domestic \\nviolence, inequalities and discrimi nation that may occur in relation to gender, sexual \\norientation or visible minority status. We are providing an additional $57 million for \\ncombatting: \\n\\uf8e7 sexual and domestic violence; \\n\\uf8e7 homophobia and transphobia; \\n\\uf8e7 racism. \\nA Committed \\nQuébec 31  \\n     \\n  \\n    \\n    \\n  \\n \\n  \\n   \\n \\n  \\n  \\n \\n    \\n \\n       \\n \\n \\n   \\n \\uf097\\uf096\\uf096\\uf071Improving the safety of our living en vironments \\nMadam President, Québec is known as one of the safest places in the world. We are \\ncommitted to investing to keep it that way. This budget provides $220 million to \\nensure public safety. Of this amount, $50 million will be invested to continue the fight \\nagainst gun violence. We are also investing $69 million to modernize the École \\nnationale de police du Québec. \\n\\uf071Facilitating access to justice \\nWe are investing nearly $100 million to facilitate Quebecers’ access to justice. This \\nwill allow us to continue the reform aimed at making justice more accessible and more efficient for all. \\n\\uf071Continuing to support First Nations and Inuit people \\nMadam President, we are committed to strengthening our government’s support for \\nFirst Nations and Inuit people. Our goal is to better tailor our support to the realities \\nof Indigenous people. \\nTo achieve this, $70 million is provided to improve the service offering, and nearly \\n$50 million is earmarked to facilitate access to housing, both in communities and in \\nurban areas. \\nBudget Speech \\n2023- 2024 32  \\n \\n      \\n \\n      \\n  \\n  \\n  \\n \\n \\n     \\n   \\n \\n \\n  \\n   \\n    \\n  \\n \\n   \\n \\uf097\\uf096\\uf0965. DIVERSIFYING AND CONSOLIDATING ENVIRONMENTAL \\nMEASURES \\nEnsuring a healthy and sustainable environment for people and future generations \\nis a government priority. That is why we are continuing to take action by s upporting \\nmeasures to preserve the climate, water quality, biodiversity and natural heritage. \\nAt the United Nations Conference on Biodiversity, COP15, our government made \\nstrong commitments. \\nTo achieve these commitments, we are investing $500 million in th e creation of the \\nFonds bleu and confirming the implementation of the Plan nature 2030 through an \\ninvestment of $443 million. In total, more than $1 billion will be invested in the environment. \\nOur new 2023- 2028 implementation plan to fight climate change will benefit from \\na $9-billion envelope. \\nTherefore, since the first implementation plan just two years ago, the government \\nwill have increased its investment by more than $2.3 billion, or 35%. \\nMadam President, we are continuing to invest in the environment like no government has before us. \\nA Committed \\nQuébec 33  \\n \\n   \\n   \\n        \\n  \\n  \\n  \\n  \\n  \\n        \\n    \\n \\n  \\n \\n \\n    \\n  \\n  \\n  \\n \\n  \\n \\n  \\n \\n   \\uf097\\uf096\\uf096CONCLUSION \\nMadam President, with Budget 2023- 2024, the government is building on the efforts \\nof the first mandate and laying the foundation for the next four years. This budget supports Québec’s commitment to the economy, education, health and the environment. \\nWe are committed to building a greener, more prosperous Québec, with an effective \\nhealth care system and a school network that will provide our young people with all the tools they need to succeed. \\nIt is a privilege, Madam President, to be the trustee of Quebecers’ public finances. \\nToday, I am presenting a prudent and responsible financial framework. The return to \\na balanced budget and the continued reduction of the debt burden are essential to achieving our ambitions for Québec. \\nBuilding on Quebecers’ renewed trust in us, we have presented today a plan committed to supporting the population and developing Québec to its highest potential. Combining the tax cuts with the many achievements of the first mandate, never before has a government taken such good care of Quebecers’ wallets. \\nWhat makes me most proud, Madam President, is that we have been able to do this \\nwhile ensuring stable, predictable and adequate funding for the government’s main \\nmissions. \\nThank you, Madam President! \\n* * * \\nI propose that the National Assembly approve the government’s budgetary policy. Thank you. \\nA Committed \\nQuébec 35  \\n \\n    \\n \\n \\n \\n  \\n \\n   \\n  \\n  \\n  \\n  \\n  \\n  \\n   \\n  \\n  \\n  \\n    \\n     \\n  \\n  \\n     \\n \\n \\n   \\n \\n \\n \\n \\n \\n \\n \\n \\n TABLE 1 \\nQuébec government\\nSummary of budgetary transactions\\nPreliminary results for 2022 -2023 \\n(millions of dollars) \\n2022- 2023 \\nREVENUE \\nOwn-source revenue 115\\u2009873 \\nFederal transfers 29\\u2009226 \\nTotal 145\\u2009099 \\nEXPENDITURE Portfolio expenditures −136\\u2009716 \\nDebt service −10\\u2009053 \\nTotal −146\\u2009769 \\nSURPLUS (DEFICIT) −1\\u2009670 \\nBALANCED BUDGET ACT \\nDeposits of dedicated revenues in the Generations Fund −3\\u2009351 \\nBUDGETARY BALANCE BEFORE USE OF THE STABILIZATION RESERVE −5\\u2009021 \\nUse of the stabilization reserve 449 \\nBUDGETARY BALANCE\\n(1) −4\\u2009572 \\n(1) Budgetary balance within the meaning of the Balanced Budget Act , after use of the stabilization reserve. \\nA Committed \\nQuébec 37  \\n     \\n \\n \\n \\n \\n \\n   \\n  \\n  \\n  \\n  \\n  \\n  \\n   \\n  \\n  \\n  \\n  \\n    \\n  \\n   \\n \\n \\n   \\n \\n \\n \\n \\n \\n \\n \\n TABLE 2 \\nQuébec government\\nSummary of budgetary transactions\\nForecasts for 2023 -2024 \\n(millions of dollars) \\n2023- 2024 \\nREVENUE \\nOwn-source revenue 117\\u2009989 \\nFederal transfers 29\\u2009742 \\nTotal 147\\u2009731 \\nEXPENDITURE Portfolio expenditures −138\\u2009392 \\nDebt service −9\\u2009464 \\nTotal −147\\u2009856 \\nContingency reserve −1\\u2009500 \\nSURPLUS (DEFICIT) −1\\u2009625 \\nBALANCED BUDGET ACT Deposits of dedicated revenues in the Generations Fund −2\\u2009373 \\nBUDGETARY BALANCE\\n(1) −3\\u2009998 \\n(1) Budgetary balance within the meaning of the Balanced Budget Act . \\nBudget Speech \\n2023- 2024 38  \\n \\n     \\n \\n \\n \\n  \\n \\n   \\n  \\n  \\n      \\n      \\n      \\n       \\n  \\n  \\n      \\n      \\n      \\n      \\n      \\n  \\n  \\n      \\n      \\n      \\n       \\n        \\n      \\n  \\n  \\n  \\n  \\n  \\n  \\n  \\n   \\n  \\n  \\n  \\n   \\n   \\n \\n     \\n \\n   \\n  \\n \\n \\n \\n \\n \\n \\n  \\n \\n \\n \\n \\n \\n   \\n TABLE 3 \\nQuébec government\\nRevenue \\nForecasts f or 2023 -2024 \\n(millions of dollars) \\n2023- 2024 \\nOWN -SOURCE REVENUE \\nIncome and property taxes \\nPersonal income tax 43\\u2009126 \\nContributions for health services 7\\u2009944 \\nCorporate taxes 13\\u2009192 \\nSchool property tax 1\\u2009184 \\n65\\u2009446 \\nConsumption taxes \\nSales taxes(1) 23\\u2009505 \\nFuel 2\\u2009081 \\nTobacco products 982 \\nAlcoholic beverages 635 \\nCannabis(2) 87 \\n27\\u2009290 \\nRevenue from government enterprises \\nHydro -Québec 3\\u2009525 \\nLoto- Québec 1\\u2009498 \\nSociété des alcools du Québec 1\\u2009459 \\nInvestissement Québec 216 \\nSociété québécoise du cannabis 92 \\nOther 17 \\n6\\u2009807 \\nDuties and permits 5\\u2009739 \\nMiscellaneous revenue 12\\u2009707 \\nTOTAL OWN -SOURCE REVENUE 117\\u2009989 \\nFEDERAL TRANSFERS \\nEqualization 14\\u2009037 \\nHealth transfers 8\\u2009660 \\nTransfers for post -secondary education and other social programs 1\\u2009366 \\nOther programs 5\\u2009679 \\nTOTAL FEDERAL TRANSFERS 29\\u2009742 \\nTOTAL REVENUE 147\\u2009731 \\n(1) Sales taxes, within the meaning of the Public Accounts, include, in particular, the QST, the tax on insurance \\npremiums, the tax on lodging and the specific duty on new tires. They also include, for presentation purposes, \\nrevenue from pari -mutuel. \\n(2) This is Québec’s component of the excise duty on cannabis sales. \\nA Committed \\nQuébec 39  \\n      \\n \\n \\n \\n \\n \\n   \\n  \\n   \\n  \\n  \\n \\n \\n   \\n \\n TABLE 4 \\nQuébec government\\nExpenditure\\nFore casts f or 2023 -2024 \\n(millions of dollars) \\n2023- 2024 \\nPortfolio expenditures −138\\u2009392 \\nDebt service −9\\u2009464 \\nTOTAL EXPENDITURE −147\\u2009856 \\nBudget Speech \\n2023- 2024 40  \\n \\n     \\n \\n \\n \\n  \\n \\n   \\n  \\n   \\n   \\n   \\n  \\n  \\n  \\n  \\n  \\n   \\n  \\n     \\n  \\n  \\n  \\n  \\n  \\n  \\n   \\n  \\n  \\n  \\n  \\n  \\n    \\n  \\n  \\n  \\n  \\n   \\n \\n  \\n  \\n \\n \\n \\n   \\n \\n \\n \\n \\n \\n \\n \\n \\n TABLE 5 \\nQuébec government\\nPortfolio expenditures\\nForeca sts fo r 2023 -2024 \\n(millions of dollars) \\n2023- 2024 \\nPORTFOLIO EXPENDITURES \\nAffaires municipales et Habitation 4\\u2009546 \\nAgriculture, Pêcheries et Alimentation 1\\u2009504 \\nConseil du trésor et Administration gouvernementale 2\\u2009797 \\nConseil exécutif 862 \\nCulture et Communications 1\\u2009904 \\nCybersécurité et Numérique 173 \\nÉconomie, Innovation et Énergie 3\\u2009680 \\nÉducation 20\\u2009203 \\nEmploi et Solidarité sociale 5\\u2009250 \\nEnseignement supérieur 10\\u2009480 \\nEnvironnement, Lutte contre les changements climatiques, Faune et Parcs 2\\u2009283 \\nFamille 8\\u2009210 \\nFinances 3\\u2009242 \\nImmigration, Francisation et Intégration 727 \\nJustice 1\\u2009481 \\nLangue française 63 \\nNational Assembly 173 \\nOfficers of the National Assembly 139 \\nRelations international es et Francophonie 170 \\nRessources naturelles et Forêts 1\\u2009474 \\nSanté et Services sociaux 59\\u2009015 \\nSécurité publique 2\\u2009336 \\nTourisme 503 \\nTransports et Mobilité durable 6\\u2009957 \\nTravail 220 \\nTOTAL 138\\u2009392 \\nDEBT SERVICE 9\\u2009464 \\nTOTAL EXPENDITURE 147\\u2009856 \\nNote: Totals may not add due to rounding. \\nA Committed \\nQuébec 41 Québec.ca/en-budget\\n'"
      ]
     },
     "execution_count": 6,
     "metadata": {},
     "output_type": "execute_result"
    }
   ],
   "source": [
    "raw_text"
   ]
  },
  {
   "cell_type": "code",
   "execution_count": null,
   "id": "68088479-f00e-4e8a-b82e-a10cecf8754a",
   "metadata": {},
   "outputs": [],
   "source": []
  },
  {
   "cell_type": "code",
   "execution_count": null,
   "id": "4c4b067c-b633-452a-ac51-5d6eee84d175",
   "metadata": {},
   "outputs": [],
   "source": []
  },
  {
   "cell_type": "markdown",
   "id": "9e1f304b-77c7-45a8-980b-9af677ff2a7f",
   "metadata": {},
   "source": [
    "## 4. Initializing Connections"
   ]
  },
  {
   "cell_type": "code",
   "execution_count": 7,
   "id": "f1ba5236-43e3-460f-949c-6b89282906e5",
   "metadata": {},
   "outputs": [],
   "source": [
    "cassio.init(token=ASTRA_DB_APPLICATION_TOKEN, database_id=ASTRA_DB_ID)"
   ]
  },
  {
   "cell_type": "code",
   "execution_count": null,
   "id": "c6bf4f9d-8cf5-4c6c-a5a6-7c3fe0b4d058",
   "metadata": {},
   "outputs": [],
   "source": []
  },
  {
   "cell_type": "code",
   "execution_count": null,
   "id": "c1819f30-1869-4af1-b8b0-d1c66012b791",
   "metadata": {},
   "outputs": [],
   "source": []
  },
  {
   "cell_type": "markdown",
   "id": "ae1f4d55-d0d9-4cb7-8687-be9c7678d1cc",
   "metadata": {},
   "source": [
    "## 5. LLM & Embeddings"
   ]
  },
  {
   "cell_type": "code",
   "execution_count": 8,
   "id": "fead538c-a1e3-47b3-8bc7-03bc9e66a1c2",
   "metadata": {},
   "outputs": [
    {
     "name": "stderr",
     "output_type": "stream",
     "text": [
      "/Users/karanpalsingh/miniforge3/lib/python3.9/site-packages/langchain_core/_api/deprecation.py:117: LangChainDeprecationWarning: The class `langchain_community.llms.openai.OpenAI` was deprecated in langchain-community 0.0.10 and will be removed in 0.2.0. An updated version of the class exists in the langchain-openai package and should be used instead. To use it run `pip install -U langchain-openai` and import as `from langchain_openai import OpenAI`.\n",
      "  warn_deprecated(\n",
      "/Users/karanpalsingh/miniforge3/lib/python3.9/site-packages/langchain_core/_api/deprecation.py:117: LangChainDeprecationWarning: The class `langchain_community.embeddings.openai.OpenAIEmbeddings` was deprecated in langchain-community 0.1.0 and will be removed in 0.2.0. An updated version of the class exists in the langchain-openai package and should be used instead. To use it run `pip install -U langchain-openai` and import as `from langchain_openai import OpenAIEmbeddings`.\n",
      "  warn_deprecated(\n"
     ]
    }
   ],
   "source": [
    "llm = OpenAI(openai_api_key=OPENAI_API_KEY)\n",
    "embeddings = OpenAIEmbeddings(openai_api_key=OPENAI_API_KEY)"
   ]
  },
  {
   "cell_type": "code",
   "execution_count": null,
   "id": "b2be7437-c4e7-44c4-a419-8e521190d768",
   "metadata": {},
   "outputs": [],
   "source": []
  },
  {
   "cell_type": "code",
   "execution_count": null,
   "id": "b73ff8df-3736-4de1-93a3-2a23f685ab43",
   "metadata": {},
   "outputs": [],
   "source": []
  },
  {
   "cell_type": "markdown",
   "id": "05f4f027-9ce3-40e6-96e7-1f40edd9182c",
   "metadata": {},
   "source": [
    "## 6. Vector Store"
   ]
  },
  {
   "cell_type": "code",
   "execution_count": 9,
   "id": "24f67964-26ec-4782-b93f-e62cadc48048",
   "metadata": {},
   "outputs": [],
   "source": [
    "vector_store = Cassandra(embedding=embeddings, table_name='budget_speech_quebec_2023_2024', session=None, keyspace=None)"
   ]
  },
  {
   "cell_type": "code",
   "execution_count": 11,
   "id": "d03e05b8-746d-47f3-9420-48afce06da95",
   "metadata": {},
   "outputs": [],
   "source": [
    "text_splitter = CharacterTextSplitter(separator='\\n', chunk_size=800, chunk_overlap=200, length_function=len)\n",
    "texts = text_splitter.split_text(raw_text)"
   ]
  },
  {
   "cell_type": "code",
   "execution_count": 12,
   "id": "59232e00-4cbb-4d69-9f59-af08a51de295",
   "metadata": {},
   "outputs": [
    {
     "data": {
      "text/plain": [
       "['BUDGET 2023-2024 \\nA COMMITTED \\nQUÉBEC \\nBUDGET SPEECH \\nMarch 2023 BUDGET 2023-2024 \\nA COMMITTED \\nQUÉBEC \\nBUDGET SPEECH \\nMarch 2023 \\nDelivered before the National Assembly by Eric Girard, Minister of Finance and \\nResponsible for Relations with English-Speaking Quebecers, on March 21, 2023.  Budget 2023-2024 \\nBudget Speech \\nLegal deposit – March 21, 2023 \\nBibliothèque et Archives nationales du Québec ISBN 978-2-550-94113-2 (Print) ISBN 978-2-550-94114-9 (PDF) \\n© Gouvernement du Québec, 2023  \\n     \\n   \\n    \\n   \\n  \\n   \\n   \\n \\n    \\n    \\n   \\n   \\n   \\n  \\n   \\n  \\n   \\n   \\n    \\n    \\n   \\n   \\n   \\n  \\n   \\n   \\n     \\n   \\n A COMMITTED QUÉBEC \\nIntroduction .............................................................................................. 3',\n",
       " 'A COMMITTED QUÉBEC \\nIntroduction .............................................................................................. 3 \\n1. Growing Québec’s wealth ................................................................ 9 \\nLowering taxes .................................................................................... 9 \\nIncreasing the productivity of Québec’s economy .............................. 10 \\nContributing to prosperity in the regions ............................................ 11 \\nAddressing the labour shortage ......................................................... 12 \\nAdapting the Québec Pension Plan to the new realities',\n",
       " 'Addressing the labour shortage ......................................................... 12 \\nAdapting the Québec Pension Plan to the new realities \\nof Quebecers .................................................................................... 13 \\n2. Developing the potential of youth .................................................. 15 \\nHelping youth succeed ...................................................................... 15 \\nGetting Quebecers moving ................................................................ 17 \\nIncreasing higher education graduation rates .................................... 18 \\n3. Making the health care system more humane \\nand effective .................................................................................... 21',\n",
       " '3. Making the health care system more humane \\nand effective .................................................................................... 21 \\nMaking the health care system more efficient \\nand flexible for the public ................................................................... 21 \\nCaring for seniors and informal and family caregivers ....................... 23 \\nSupporting the most vulnerable ......................................................... 25 \\n4. Supporting Quebecers .................................................................... 27 \\nPromoting culture and the French language ...................................... 27 \\nFacilitating access to affordable housing ........................................... 28',\n",
       " 'Promoting culture and the French language ...................................... 27 \\nFacilitating access to affordable housing ........................................... 28 \\nSupporting families ............................................................................ 29 \\nStrengthening the accessibility and efficiency \\nof transportation networks ................................................................. 30 \\nSupporting Quebecers’ quality of life ................................................. 31 \\n5. Diversifying and consoli dating environmental measures ............ 33 \\nConclusion ............................................................................................. 35 \\n1',\n",
       " '1  \\n \\n   \\n  \\n \\n  \\n  \\n   \\n         \\n \\n        \\n \\n        \\n      \\n    \\n  \\n       \\n          \\n   \\n   \\n        \\n   \\n    \\n  \\n    \\n  \\n      \\n  \\n   \\n  \\n       \\n  \\n  \\n   \\n \\n INTRODUCTION \\nMadam President, \\nIt is my honour to table Québec’s 2023- 2024 budget —the first of this new term and \\nthe fifth of our government. \\n\\uf071Renewed trust \\nDuring the last election campaign, we presented our priorities for the coming years \\nto Quebecers. We promised to lower their taxes, step up our efforts to protect the \\nFrench language, improve education and health services and protect our environment. Que becers then placed their trust in us a second time. We are now \\ncommitted to getting the work done for them. \\nThe government is continuing the efforts of the past four years. Budget 2023- 2024',\n",
       " 'committed to getting the work done for them. \\nThe government is continuing the efforts of the past four years. Budget 2023- 2024 \\nprioritizes the economy, education, health and the environment, while maintaining \\na prudent and responsible financial framework. \\nToday, I am proud to announce one of the largest tax cuts in the history of Québec. \\nThe two bottom tax rates will be reduced by 1 percentage point starting this year. This tax cut will total $9.2 billion by 2027- 2028 and will \\nbenefit 4.6 million Quebecers. \\n\\uf071The year 2023, a period of transition \\nWe ended our last term with a promise to Quebecers: we promised to help them cope with the rising cost of living. And that’s what we did. Using the Anti -Inflation',\n",
       " 'We ended our last term with a promise to Quebecers: we promised to help them cope with the rising cost of living. And that’s what we did. Using the Anti -Inflation \\nShield, we have helped all Quebecers affected by the rising cost of living. \\nMadam President, of all the governments in Canada, ours has done the most \\nto protect its people from inflation. \\nThe year 2023 will be a period of transition for the global economy, marking a shift from a period of turbulence to a more stable economic context. \\n\\uf8e7 In early 2020, the COVID -19 pandemic caused a shock of unprecedented \\nmagnitude,  sending the economy into a short but deep recession. \\n\\uf8e7 The economic recovery and Russia’s invasion of Ukraine then created an \\nenvironment that is conducive to accelerating inflationary pressures.',\n",
       " '\\uf8e7 The economic recovery and Russia’s invasion of Ukraine then created an \\nenvironment that is conducive to accelerating inflationary pressures. \\n\\uf8e7 The rising cost of living and deteriorating credit conditions will weigh on global \\neconomic expansion in the coming quarters. Most regions will experience a \\nsignificant slowdown in economic activity in 2023. \\nA Committed \\nQuébec 3  \\n    \\n  \\n  \\n   \\n          \\n    \\n   \\n   \\n \\n \\n     \\n         \\n         \\n     \\n \\n  \\n            \\n  \\n   \\n     \\n \\n   \\n   \\n  \\n   \\n  \\n     \\n   \\n  \\n  \\n \\n     \\n    \\n    \\n   \\n \\n \\n \\n Controlling inflation should help restore an environment that is conducive to \\nsustainable growth as of 2 024. \\nThis budget has been prepared with all these things in mind.',\n",
       " 'Controlling inflation should help restore an environment that is conducive to \\nsustainable growth as of 2 024. \\nThis budget has been prepared with all these things in mind. \\nMadam President, it is undeniable that Québec will see an economic slowdown \\nin 2023. The risks of a recession are still present, but Québec’s resilience means \\nthat we can be optimistic about our chances of escaping one. \\nThe economy is projected to grow by 0.6% in 2023 and 1.4% in 2024. \\nIt is also important to remember that employment growth in Québec was strong, \\nexceeding expectations. \\nIn addition, we have continued to make progress toward closing the wealth gap with \\nOntario. Although growth in living standards was similar in Québec and Ontario in']"
      ]
     },
     "execution_count": 12,
     "metadata": {},
     "output_type": "execute_result"
    }
   ],
   "source": [
    "texts[:10]"
   ]
  },
  {
   "cell_type": "code",
   "execution_count": null,
   "id": "00b98789-b010-4649-a41e-50d99cce4ba7",
   "metadata": {},
   "outputs": [],
   "source": []
  },
  {
   "cell_type": "code",
   "execution_count": 13,
   "id": "ab4a0a5a-47a7-4e5c-a7db-654a16663eba",
   "metadata": {},
   "outputs": [
    {
     "name": "stdout",
     "output_type": "stream",
     "text": [
      "Added 87 documents to the vector database\n"
     ]
    }
   ],
   "source": [
    "# loading data into Vector DB\n",
    "\n",
    "vector_store.add_texts(texts)\n",
    "print(f'Added {len(texts)} documents to the vector database')"
   ]
  },
  {
   "cell_type": "code",
   "execution_count": 14,
   "id": "d7925796-3786-487c-ab4e-5b86ea402815",
   "metadata": {},
   "outputs": [],
   "source": [
    "vector_index = VectorStoreIndexWrapper(vectorstore=vector_store)"
   ]
  },
  {
   "cell_type": "code",
   "execution_count": null,
   "id": "b90ee224-0169-4271-8a73-db9777c122f5",
   "metadata": {},
   "outputs": [],
   "source": []
  },
  {
   "cell_type": "code",
   "execution_count": null,
   "id": "ec2ed88e-1bef-48a1-a1d1-dc12fbf13894",
   "metadata": {},
   "outputs": [],
   "source": []
  },
  {
   "cell_type": "markdown",
   "id": "03f1e4e6-872c-40b8-a836-d8d91f3d326b",
   "metadata": {},
   "source": [
    "## 7. Question Answer on PDF"
   ]
  },
  {
   "cell_type": "markdown",
   "id": "cdf7da0d-8603-4ec9-a03b-29b6027f7330",
   "metadata": {},
   "source": [
    "**From Budget Speech**\n",
    "- what is the role of higher education?\n",
    "- can you highlight budget benefits for the seniors?\n",
    "- are there any implications on immigration policy?\n",
    "\n",
    "**From Math's Book**\n",
    "- what are mortgages?\n",
    "- What is the strategy for seniors?"
   ]
  },
  {
   "cell_type": "code",
   "execution_count": 15,
   "id": "f673803a-b639-45d9-bd5e-6e21a395fab9",
   "metadata": {},
   "outputs": [
    {
     "name": "stdin",
     "output_type": "stream",
     "text": [
      "Ask Question:  are there any implications on immigration policy?\n"
     ]
    },
    {
     "name": "stdout",
     "output_type": "stream",
     "text": [
      "\n",
      "Question : are there any implications on immigration policy?\n",
      "Response : Yes, the context suggests that the government is taking steps to support the socioeconomic integration of immigrants into the labour market, which could have implications on immigration policy.\n",
      "\n",
      "\n",
      "Other Relevant Responses:\n",
      "89.0% - ADDRESSING THE LABOUR SHORTAGE \n",
      "Madam President, our government is particularly sensitive to the situation of the \n",
      "Québec workforce. It is the powerhouse of our economic vitality. We are aware that \n",
      "the current shortage combined with an aging population will present challenges for years to come. It\n",
      "\n",
      "89.0% - ADDRESSING THE LABOUR SHORTAGE \n",
      "Madam President, our government is particularly sensitive to the situation of the \n",
      "Québec workforce. It is the powerhouse of our economic vitality. We are aware that \n",
      "the current shortage combined with an aging population will present challenges for years to come. It\n",
      "\n",
      "89.0% - ADDRESSING THE LABOUR SHORTAGE \n",
      "Madam President, our government is particularly sensitive to the situation of the \n",
      "Québec workforce. It is the powerhouse of our economic vitality. We are aware that \n",
      "the current shortage combined with an aging population will present challenges for years to come. It\n",
      "\n",
      "89.0% - ADDRESSING THE LABOUR SHORTAGE \n",
      "Madam President, our government is particularly sensitive to the situation of the \n",
      "Québec workforce. It is the powerhouse of our economic vitality. We are aware that \n",
      "the current shortage combined with an aging population will present challenges for years to come. It\n",
      "\n",
      "89.0% - ADDRESSING THE LABOUR SHORTAGE \n",
      "Madam President, our government is particularly sensitive to the situation of the \n",
      "Québec workforce. It is the powerhouse of our economic vitality. We are aware that \n",
      "the current shortage combined with an aging population will present challenges for years to come. It\n",
      "\n"
     ]
    },
    {
     "name": "stdin",
     "output_type": "stream",
     "text": [
      "Ask next Question:  exit\n"
     ]
    }
   ],
   "source": [
    "input_question = True\n",
    "\n",
    "while True:\n",
    "    if input_question:\n",
    "        query = input('Ask Question: ').strip()\n",
    "    else:\n",
    "        query = input('Ask next Question: ').strip()\n",
    "\n",
    "    if query.lower() == 'exit':\n",
    "        break\n",
    "\n",
    "    if query.lower() == '':\n",
    "        continue\n",
    "\n",
    "    input_question = False\n",
    "\n",
    "    print(f'\\nQuestion : {query}')\n",
    "    response = vector_index.query(query, llm=llm).strip()\n",
    "    print(f'Response : {response.strip()}')\n",
    "\n",
    "\n",
    "    print(f'\\n\\nOther Relevant Responses:')\n",
    "    for doc, score in vector_store.similarity_search_with_score(query, k=5):\n",
    "        print(f'{round(score,2)*100}% - {(doc.page_content[:300]).strip()}\\n')"
   ]
  },
  {
   "cell_type": "code",
   "execution_count": null,
   "id": "5ccbedd0-3160-4f5b-b5b6-0ba192ae8a50",
   "metadata": {},
   "outputs": [],
   "source": []
  }
 ],
 "metadata": {
  "kernelspec": {
   "display_name": "Python 3 (ipykernel)",
   "language": "python",
   "name": "python3"
  },
  "language_info": {
   "codemirror_mode": {
    "name": "ipython",
    "version": 3
   },
   "file_extension": ".py",
   "mimetype": "text/x-python",
   "name": "python",
   "nbconvert_exporter": "python",
   "pygments_lexer": "ipython3",
   "version": "3.9.16"
  }
 },
 "nbformat": 4,
 "nbformat_minor": 5
}
